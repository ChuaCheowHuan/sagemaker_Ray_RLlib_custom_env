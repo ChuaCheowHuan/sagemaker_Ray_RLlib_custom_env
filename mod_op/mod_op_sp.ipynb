{
 "cells": [
  {
   "cell_type": "code",
   "execution_count": null,
   "metadata": {
    "colab": {},
    "colab_type": "code",
    "id": "_WRO_it6g4yD"
   },
   "outputs": [],
   "source": [
    "!/bin/bash ./setup.sh\n",
    "\n",
    "import boto3\n",
    "\n",
    "from time import gmtime, strftime\n",
    "import sagemaker \n",
    "role = sagemaker.get_execution_role()\n",
    "\n",
    "sage_session = sagemaker.session.Session()\n",
    "s3_bucket = sage_session.default_bucket()  \n",
    "s3_output_path = 's3://{}/'.format(s3_bucket)\n",
    "print(\"S3 bucket path: {}\".format(s3_output_path))\n",
    "\n",
    "job_name_prefix = 'ArrivalSim'"
   ]
  },
  {
   "cell_type": "code",
   "execution_count": null,
   "metadata": {
    "colab": {},
    "colab_type": "code",
    "id": "Q0C9uR4_g4yS"
   },
   "outputs": [],
   "source": [
    "#!pygmentize ./src/mod_op_env.py"
   ]
  },
  {
   "cell_type": "code",
   "execution_count": null,
   "metadata": {
    "colab": {},
    "colab_type": "code",
    "id": "iuMWgqhRg4ya"
   },
   "outputs": [],
   "source": [
    "#!pygmentize ./src/mod_op_train.py"
   ]
  },
  {
   "cell_type": "code",
   "execution_count": null,
   "metadata": {
    "colab": {},
    "colab_type": "code",
    "id": "QHQx5HWHg4yg"
   },
   "outputs": [],
   "source": [
    "from sagemaker.rl import RLEstimator, RLToolkit, RLFramework\n",
    "\n",
    "region = boto3.Session().region_name\n",
    "account = boto3.client('sts').get_caller_identity().get('Account')\n",
    "repo = 'custom-smk-rl-ctn'\n",
    "#tag = 'tf-1.12.0-ray-0.7.3-cpu-py3'\n",
    "tag = 'tf-1.12.0-ray-0.7.4-cpu-py3'\n",
    "\n",
    "\n",
    "estimator = RLEstimator(entry_point=\"mod_op_train.py\", # Our launcher code\n",
    "                        source_dir='src', # Directory where the supporting files are at. All of this will be\n",
    "                                          # copied into the container.\n",
    "                        dependencies=[\"common/sagemaker_rl\"], # some other utils files.\n",
    "                        \n",
    "                        image_name= '{}.dkr.ecr.{}.amazonaws.com/{}:{}'.format(account, region, repo, tag),\n",
    "                        toolkit=RLToolkit.RAY, # We want to run using the Ray toolkit against the ray container image.\n",
    "                        framework=RLFramework.TENSORFLOW, # The code is in tensorflow backend.\n",
    "                        toolkit_version='0.5.3', # Toolkit version. This will also choose an apporpriate tf version.                                               \n",
    "                        #toolkit_version='0.6.5', # Toolkit version. This will also choose an apporpriate tf version.                        \n",
    "                        \n",
    "                        role=role, # The IAM role that we created at the begining.\n",
    "                        #train_instance_type=\"ml.m4.xlarge\", # Since we want to run fast, lets run on GPUs.\n",
    "                        train_instance_type=\"local\", # Since we want to run fast, lets run on GPUs.\n",
    "                        train_instance_count=1, # Single instance will also work, but running distributed makes things \n",
    "                                                # fast, particularly in the case of multiple rollout training.\n",
    "                        output_path=s3_output_path, # The path where we can expect our trained model.\n",
    "                        base_job_name=job_name_prefix, # This is the name we setup above to be to track our job.\n",
    "                        hyperparameters = {      # Some hyperparameters for Ray toolkit to operate.\n",
    "                          \"s3_bucket\": s3_bucket,\n",
    "                          \"rl.training.stop.training_iteration\": 2, # Number of iterations.\n",
    "                          \"rl.training.checkpoint_freq\": 2,\n",
    "                        },\n",
    "                        #metric_definitions=metric_definitions, # This will bring all the logs out into the notebook.\n",
    "                    )\n",
    "\n",
    "estimator.fit()"
   ]
  }
 ],
 "metadata": {
  "colab": {
   "collapsed_sections": [],
   "name": "mod_op_sp.ipynb",
   "provenance": [],
   "version": "0.3.2"
  },
  "kernelspec": {
   "display_name": "conda_tensorflow_p36",
   "language": "python",
   "name": "conda_tensorflow_p36"
  },
  "language_info": {
   "codemirror_mode": {
    "name": "ipython",
    "version": 3
   },
   "file_extension": ".py",
   "mimetype": "text/x-python",
   "name": "python",
   "nbconvert_exporter": "python",
   "pygments_lexer": "ipython3",
   "version": "3.6.5"
  }
 },
 "nbformat": 4,
 "nbformat_minor": 1
}
